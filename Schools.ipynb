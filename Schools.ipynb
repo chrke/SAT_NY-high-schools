{
 "cells": [
  {
   "cell_type": "markdown",
   "metadata": {},
   "source": [
    "# Read in the data"
   ]
  },
  {
   "cell_type": "code",
   "execution_count": 1,
   "metadata": {
    "collapsed": true
   },
   "outputs": [],
   "source": [
    "import pandas\n",
    "import numpy\n",
    "import re\n",
    "\n",
    "data_files = [\n",
    "    \"ap_2010.csv\",\n",
    "    \"class_size.csv\",\n",
    "    \"demographics.csv\",\n",
    "    \"graduation.csv\",\n",
    "    \"hs_directory.csv\",\n",
    "    \"sat_results.csv\"\n",
    "]\n",
    "\n",
    "data = {}\n",
    "\n",
    "for f in data_files:\n",
    "    d = pandas.read_csv(\"schools/{0}\".format(f))\n",
    "    data[f.replace(\".csv\", \"\")] = d"
   ]
  },
  {
   "cell_type": "markdown",
   "metadata": {},
   "source": [
    "# Read in the surveys"
   ]
  },
  {
   "cell_type": "code",
   "execution_count": 3,
   "metadata": {
    "collapsed": true
   },
   "outputs": [],
   "source": [
    "all_survey = pandas.read_csv(\"schools/survey_all.txt\", delimiter=\"\\t\", encoding='windows-1252')\n",
    "d75_survey = pandas.read_csv(\"schools/survey_d75.txt\", delimiter=\"\\t\", encoding='windows-1252')\n",
    "survey = pandas.concat([all_survey, d75_survey], axis=0)\n",
    "\n",
    "survey[\"DBN\"] = survey[\"dbn\"]\n",
    "\n",
    "survey_fields = [\n",
    "    \"DBN\", \n",
    "    \"rr_s\", \n",
    "    \"rr_t\", \n",
    "    \"rr_p\", \n",
    "    \"N_s\", \n",
    "    \"N_t\", \n",
    "    \"N_p\", \n",
    "    \"saf_p_11\", \n",
    "    \"com_p_11\", \n",
    "    \"eng_p_11\", \n",
    "    \"aca_p_11\", \n",
    "    \"saf_t_11\", \n",
    "    \"com_t_11\", \n",
    "    \"eng_t_10\", \n",
    "    \"aca_t_11\", \n",
    "    \"saf_s_11\", \n",
    "    \"com_s_11\", \n",
    "    \"eng_s_11\", \n",
    "    \"aca_s_11\", \n",
    "    \"saf_tot_11\", \n",
    "    \"com_tot_11\", \n",
    "    \"eng_tot_11\", \n",
    "    \"aca_tot_11\",\n",
    "]\n",
    "survey = survey.loc[:,survey_fields]\n",
    "data[\"survey\"] = survey"
   ]
  },
  {
   "cell_type": "markdown",
   "metadata": {},
   "source": [
    "# Add DBN columns"
   ]
  },
  {
   "cell_type": "code",
   "execution_count": 4,
   "metadata": {
    "collapsed": true
   },
   "outputs": [],
   "source": [
    "data[\"hs_directory\"][\"DBN\"] = data[\"hs_directory\"][\"dbn\"]\n",
    "\n",
    "def pad_csd(num):\n",
    "    string_representation = str(num)\n",
    "    if len(string_representation) > 1:\n",
    "        return string_representation\n",
    "    else:\n",
    "        return \"0\" + string_representation\n",
    "    \n",
    "data[\"class_size\"][\"padded_csd\"] = data[\"class_size\"][\"CSD\"].apply(pad_csd)\n",
    "data[\"class_size\"][\"DBN\"] = data[\"class_size\"][\"padded_csd\"] + data[\"class_size\"][\"SCHOOL CODE\"]"
   ]
  },
  {
   "cell_type": "markdown",
   "metadata": {},
   "source": [
    "# Convert columns to numeric"
   ]
  },
  {
   "cell_type": "code",
   "execution_count": 5,
   "metadata": {
    "collapsed": true
   },
   "outputs": [],
   "source": [
    "cols = ['SAT Math Avg. Score', 'SAT Critical Reading Avg. Score', 'SAT Writing Avg. Score']\n",
    "for c in cols:\n",
    "    data[\"sat_results\"][c] = pandas.to_numeric(data[\"sat_results\"][c], errors=\"coerce\")\n",
    "\n",
    "data['sat_results']['sat_score'] = data['sat_results'][cols[0]] + data['sat_results'][cols[1]] + data['sat_results'][cols[2]]\n",
    "\n",
    "def find_lat(loc):\n",
    "    coords = re.findall(\"\\(.+, .+\\)\", loc)\n",
    "    lat = coords[0].split(\",\")[0].replace(\"(\", \"\")\n",
    "    return lat\n",
    "\n",
    "def find_lon(loc):\n",
    "    coords = re.findall(\"\\(.+, .+\\)\", loc)\n",
    "    lon = coords[0].split(\",\")[1].replace(\")\", \"\").strip()\n",
    "    return lon\n",
    "\n",
    "data[\"hs_directory\"][\"lat\"] = data[\"hs_directory\"][\"Location 1\"].apply(find_lat)\n",
    "data[\"hs_directory\"][\"lon\"] = data[\"hs_directory\"][\"Location 1\"].apply(find_lon)\n",
    "\n",
    "data[\"hs_directory\"][\"lat\"] = pandas.to_numeric(data[\"hs_directory\"][\"lat\"], errors=\"coerce\")\n",
    "data[\"hs_directory\"][\"lon\"] = pandas.to_numeric(data[\"hs_directory\"][\"lon\"], errors=\"coerce\")"
   ]
  },
  {
   "cell_type": "markdown",
   "metadata": {},
   "source": [
    "# Condense datasets"
   ]
  },
  {
   "cell_type": "code",
   "execution_count": 6,
   "metadata": {
    "collapsed": true
   },
   "outputs": [],
   "source": [
    "class_size = data[\"class_size\"]\n",
    "class_size = class_size[class_size[\"GRADE \"] == \"09-12\"]\n",
    "class_size = class_size[class_size[\"PROGRAM TYPE\"] == \"GEN ED\"]\n",
    "\n",
    "class_size = class_size.groupby(\"DBN\").agg(numpy.mean)\n",
    "class_size.reset_index(inplace=True)\n",
    "data[\"class_size\"] = class_size\n",
    "\n",
    "data[\"demographics\"] = data[\"demographics\"][data[\"demographics\"][\"schoolyear\"] == 20112012]\n",
    "\n",
    "data[\"graduation\"] = data[\"graduation\"][data[\"graduation\"][\"Cohort\"] == \"2006\"]\n",
    "data[\"graduation\"] = data[\"graduation\"][data[\"graduation\"][\"Demographic\"] == \"Total Cohort\"]"
   ]
  },
  {
   "cell_type": "markdown",
   "metadata": {},
   "source": [
    "# Convert AP scores to numeric"
   ]
  },
  {
   "cell_type": "code",
   "execution_count": 7,
   "metadata": {
    "collapsed": true
   },
   "outputs": [],
   "source": [
    "cols = ['AP Test Takers ', 'Total Exams Taken', 'Number of Exams with scores 3 4 or 5']\n",
    "\n",
    "for col in cols:\n",
    "    data[\"ap_2010\"][col] = pandas.to_numeric(data[\"ap_2010\"][col], errors=\"coerce\")"
   ]
  },
  {
   "cell_type": "markdown",
   "metadata": {},
   "source": [
    "# Combine the datasets"
   ]
  },
  {
   "cell_type": "code",
   "execution_count": 8,
   "metadata": {
    "collapsed": true
   },
   "outputs": [],
   "source": [
    "combined = data[\"sat_results\"]\n",
    "\n",
    "combined = combined.merge(data[\"ap_2010\"], on=\"DBN\", how=\"left\")\n",
    "combined = combined.merge(data[\"graduation\"], on=\"DBN\", how=\"left\")\n",
    "\n",
    "to_merge = [\"class_size\", \"demographics\", \"survey\", \"hs_directory\"]\n",
    "\n",
    "for m in to_merge:\n",
    "    combined = combined.merge(data[m], on=\"DBN\", how=\"inner\")\n",
    "\n",
    "combined = combined.fillna(combined.mean())\n",
    "combined = combined.fillna(0)"
   ]
  },
  {
   "cell_type": "markdown",
   "metadata": {},
   "source": [
    "# Add a school district column for mapping"
   ]
  },
  {
   "cell_type": "code",
   "execution_count": 9,
   "metadata": {
    "collapsed": true
   },
   "outputs": [],
   "source": [
    "def get_first_two_chars(dbn):\n",
    "    return dbn[0:2]\n",
    "\n",
    "combined[\"school_dist\"] = combined[\"DBN\"].apply(get_first_two_chars)"
   ]
  },
  {
   "cell_type": "markdown",
   "metadata": {},
   "source": [
    "# Find correlations"
   ]
  },
  {
   "cell_type": "code",
   "execution_count": 10,
   "metadata": {
    "collapsed": false
   },
   "outputs": [
    {
     "name": "stdout",
     "output_type": "stream",
     "text": [
      "SAT Critical Reading Avg. Score         0.986820\n",
      "SAT Math Avg. Score                     0.972643\n",
      "SAT Writing Avg. Score                  0.987771\n",
      "sat_score                               1.000000\n",
      "AP Test Takers                          0.523140\n",
      "Total Exams Taken                       0.514333\n",
      "Number of Exams with scores 3 4 or 5    0.463245\n",
      "Total Cohort                            0.325144\n",
      "CSD                                     0.042948\n",
      "NUMBER OF STUDENTS / SEATS FILLED       0.394626\n",
      "NUMBER OF SECTIONS                      0.362673\n",
      "AVERAGE CLASS SIZE                      0.381014\n",
      "SIZE OF SMALLEST CLASS                  0.249949\n",
      "SIZE OF LARGEST CLASS                   0.314434\n",
      "SCHOOLWIDE PUPIL-TEACHER RATIO               NaN\n",
      "schoolyear                                   NaN\n",
      "fl_percent                                   NaN\n",
      "frl_percent                            -0.722225\n",
      "total_enrollment                        0.367857\n",
      "ell_num                                -0.153778\n",
      "ell_percent                            -0.398750\n",
      "sped_num                                0.034933\n",
      "sped_percent                           -0.448170\n",
      "asian_num                               0.475445\n",
      "asian_per                               0.570730\n",
      "black_num                               0.027979\n",
      "black_per                              -0.284139\n",
      "hispanic_num                            0.025744\n",
      "hispanic_per                           -0.396985\n",
      "white_num                               0.449559\n",
      "                                          ...   \n",
      "rr_p                                    0.047925\n",
      "N_s                                     0.423463\n",
      "N_t                                     0.291463\n",
      "N_p                                     0.421530\n",
      "saf_p_11                                0.122913\n",
      "com_p_11                               -0.115073\n",
      "eng_p_11                                0.020254\n",
      "aca_p_11                                0.035155\n",
      "saf_t_11                                0.313810\n",
      "com_t_11                                0.082419\n",
      "eng_t_10                                     NaN\n",
      "aca_t_11                                0.132348\n",
      "saf_s_11                                0.337639\n",
      "com_s_11                                0.187370\n",
      "eng_s_11                                0.213822\n",
      "aca_s_11                                0.339435\n",
      "saf_tot_11                              0.318753\n",
      "com_tot_11                              0.077310\n",
      "eng_tot_11                              0.100102\n",
      "aca_tot_11                              0.190966\n",
      "grade_span_max                               NaN\n",
      "expgrade_span_max                            NaN\n",
      "zip                                    -0.063977\n",
      "total_students                          0.407827\n",
      "number_programs                         0.117012\n",
      "priority08                                   NaN\n",
      "priority09                                   NaN\n",
      "priority10                                   NaN\n",
      "lat                                    -0.121029\n",
      "lon                                    -0.132222\n",
      "Name: sat_score, dtype: float64\n"
     ]
    }
   ],
   "source": [
    "correlations = combined.corr()\n",
    "correlations = correlations[\"sat_score\"]\n",
    "print(correlations)"
   ]
  },
  {
   "cell_type": "markdown",
   "metadata": {},
   "source": [
    "Instructions\n",
    "\n",
    "Setup matplotlib to work in Jupyter notebook.\n",
    "\n",
    "There are several fields in combined that originally came from a survey of parents, teachers, and students. Make a bar plot of the correlations between these fields and sat_score.\n",
    "\n",
    "You can find a list of the fields in the survey_fields variable in the notebook.\n",
    "\n",
    "Consult the data dictionary that is part of the zip file that you can download here.\n",
    "\n",
    "Are there any surprising correlations that you found?\n",
    "\n",
    "Write up your results in a markdown cell."
   ]
  },
  {
   "cell_type": "markdown",
   "metadata": {},
   "source": [
    "# Plotting and analysing survey related correlations"
   ]
  },
  {
   "cell_type": "code",
   "execution_count": 11,
   "metadata": {
    "collapsed": false
   },
   "outputs": [],
   "source": [
    "import matplotlib.pyplot as plt\n",
    "%matplotlib inline\n",
    "import seaborn as sns"
   ]
  },
  {
   "cell_type": "code",
   "execution_count": 12,
   "metadata": {
    "collapsed": false
   },
   "outputs": [
    {
     "data": {
      "image/png": "[encoded data removed]",
      "text/plain": [
       "<matplotlib.figure.Figure at 0x21a1466e0f0>"
      ]
     },
     "metadata": {},
     "output_type": "display_data"
    }
   ],
   "source": [
    "survey = survey_fields[:]\n",
    "survey.remove(\"DBN\")\n",
    "corr_survey = correlations.loc[survey]\n",
    "corr_survey.sort_index(inplace=True)\n",
    "\n",
    "fig = plt.figure(figsize=(8,6))\n",
    "ax = fig.add_subplot(1,1,1)\n",
    "corr_survey.plot(kind='bar',color='m')\n",
    "plt.title(\"Correlations with the SAT score\")\n",
    "plt.show()"
   ]
  },
  {
   "cell_type": "markdown",
   "metadata": {},
   "source": [
    "1) Most of the terms seem to show a positive correlation, except the comp_p_11, which is the communication score based on the parent's responses\n",
    "\n",
    "2) The highest correlation is with the N_s and the N_p with N_t's correlation in between. Meaning, there is a higher correlation with the number of student and parent respondents than with the number of teacher respondents. This could mean that the schools where the parents and students' opinions are taken into account show a better SAT score. \n",
    "\n",
    "3) What is interesting is the difference in correlation between the actual number of responses and the response rates.\n",
    "- N_s is higher than rr_s (both are positive)\n",
    "- N_p is higher than rr_p (both are positive)\n",
    "- N_t is higher than rr_t (rr_t is negative)\n",
    "\n",
    "4) Safety statistics seem to have a high correlation as well (saf_p_11, saf_s_11, saf_t_11, saf_tot_11)"
   ]
  },
  {
   "cell_type": "markdown",
   "metadata": {},
   "source": [
    "# Safety score analysis"
   ]
  },
  {
   "cell_type": "markdown",
   "metadata": {},
   "source": [
    "Safety statistics seem to have a high correlation with the sat_scores. We can delve further into this. "
   ]
  },
  {
   "cell_type": "code",
   "execution_count": 13,
   "metadata": {
    "collapsed": false
   },
   "outputs": [
    {
     "data": {
      "image/png": "[encoded data removed]",
      "text/plain": [
       "<matplotlib.figure.Figure at 0x21a151b80b8>"
      ]
     },
     "metadata": {},
     "output_type": "display_data"
    }
   ],
   "source": [
    "fig = plt.figure(figsize = (16,6))\n",
    "\n",
    "ax1 = fig.add_subplot(1,2,1)\n",
    "ax2 = fig.add_subplot(1,2,2)\n",
    "\n",
    "ax1.scatter(combined[\"saf_s_11\"],combined[\"sat_score\"])\n",
    "ax1.set(xlabel=\"Safety score according to students\",ylabel=\"SAT scores\")\n",
    "\n",
    "ax2.scatter(combined[\"saf_tot_11\"],combined[\"sat_score\"])\n",
    "ax2.set(xlabel=\"Total safety scores\",ylabel=\"SAT scores\")\n",
    "\n",
    "plt.show()"
   ]
  },
  {
   "cell_type": "markdown",
   "metadata": {},
   "source": [
    "* There seems to be a tight cluster in the low safety score - low sat_score range with an ambiguous trend \n",
    "* As the score increases, the sat_scores seem to show a general upward trend, albiet in different rates (as can be concluded from the branching after the cluster)"
   ]
  },
  {
   "cell_type": "code",
   "execution_count": 14,
   "metadata": {
    "collapsed": false
   },
   "outputs": [
    {
     "name": "stdout",
     "output_type": "stream",
     "text": [
      "DBN\n",
      "SCHOOL NAME\n",
      "Num of SAT Test Takers\n",
      "SAT Critical Reading Avg. Score\n",
      "SAT Math Avg. Score\n",
      "SAT Writing Avg. Score\n",
      "sat_score\n",
      "SchoolName\n",
      "AP Test Takers \n",
      "Total Exams Taken\n",
      "Number of Exams with scores 3 4 or 5\n",
      "Demographic\n",
      "School Name\n",
      "Cohort\n",
      "Total Cohort\n",
      "Total Grads - n\n",
      "Total Grads - % of cohort\n",
      "Total Regents - n\n",
      "Total Regents - % of cohort\n",
      "Total Regents - % of grads\n",
      "Advanced Regents - n\n",
      "Advanced Regents - % of cohort\n",
      "Advanced Regents - % of grads\n",
      "Regents w/o Advanced - n\n",
      "Regents w/o Advanced - % of cohort\n",
      "Regents w/o Advanced - % of grads\n",
      "Local - n\n",
      "Local - % of cohort\n",
      "Local - % of grads\n",
      "Still Enrolled - n\n",
      "Still Enrolled - % of cohort\n",
      "Dropped Out - n\n",
      "Dropped Out - % of cohort\n",
      "CSD\n",
      "NUMBER OF STUDENTS / SEATS FILLED\n",
      "NUMBER OF SECTIONS\n",
      "AVERAGE CLASS SIZE\n",
      "SIZE OF SMALLEST CLASS\n",
      "SIZE OF LARGEST CLASS\n",
      "SCHOOLWIDE PUPIL-TEACHER RATIO\n",
      "Name\n",
      "schoolyear\n",
      "fl_percent\n",
      "frl_percent\n",
      "total_enrollment\n",
      "prek\n",
      "k\n",
      "grade1\n",
      "grade2\n",
      "grade3\n",
      "grade4\n",
      "grade5\n",
      "grade6\n",
      "grade7\n",
      "grade8\n",
      "grade9\n",
      "grade10\n",
      "grade11\n",
      "grade12\n",
      "ell_num\n",
      "ell_percent\n",
      "sped_num\n",
      "sped_percent\n",
      "ctt_num\n",
      "selfcontained_num\n",
      "asian_num\n",
      "asian_per\n",
      "black_num\n",
      "black_per\n",
      "hispanic_num\n",
      "hispanic_per\n",
      "white_num\n",
      "white_per\n",
      "male_num\n",
      "male_per\n",
      "female_num\n",
      "female_per\n",
      "rr_s\n",
      "rr_t\n",
      "rr_p\n",
      "N_s\n",
      "N_t\n",
      "N_p\n",
      "saf_p_11\n",
      "com_p_11\n",
      "eng_p_11\n",
      "aca_p_11\n",
      "saf_t_11\n",
      "com_t_11\n",
      "eng_t_10\n",
      "aca_t_11\n",
      "saf_s_11\n",
      "com_s_11\n",
      "eng_s_11\n",
      "aca_s_11\n",
      "saf_tot_11\n",
      "com_tot_11\n",
      "eng_tot_11\n",
      "aca_tot_11\n",
      "dbn\n",
      "school_name\n",
      "boro\n",
      "building_code\n",
      "phone_number\n",
      "fax_number\n",
      "grade_span_min\n",
      "grade_span_max\n",
      "expgrade_span_min\n",
      "expgrade_span_max\n",
      "bus\n",
      "subway\n",
      "primary_address_line_1\n",
      "city\n",
      "state_code\n",
      "zip\n",
      "website\n",
      "total_students\n",
      "campus_name\n",
      "school_type\n",
      "overview_paragraph\n",
      "program_highlights\n",
      "language_classes\n",
      "advancedplacement_courses\n",
      "online_ap_courses\n",
      "online_language_courses\n",
      "extracurricular_activities\n",
      "psal_sports_boys\n",
      "psal_sports_girls\n",
      "psal_sports_coed\n",
      "school_sports\n",
      "partner_cbo\n",
      "partner_hospital\n",
      "partner_highered\n",
      "partner_cultural\n",
      "partner_nonprofit\n",
      "partner_corporate\n",
      "partner_financial\n",
      "partner_other\n",
      "addtl_info1\n",
      "addtl_info2\n",
      "start_time\n",
      "end_time\n",
      "se_services\n",
      "ell_programs\n",
      "school_accessibility_description\n",
      "number_programs\n",
      "priority01\n",
      "priority02\n",
      "priority03\n",
      "priority04\n",
      "priority05\n",
      "priority06\n",
      "priority07\n",
      "priority08\n",
      "priority09\n",
      "priority10\n",
      "Location 1\n",
      "lat\n",
      "lon\n",
      "school_dist\n"
     ]
    }
   ],
   "source": [
    "for i in combined.columns:\n",
    "    print(i)"
   ]
  },
  {
   "cell_type": "code",
   "execution_count": 15,
   "metadata": {
    "collapsed": true
   },
   "outputs": [],
   "source": [
    "import numpy as np"
   ]
  },
  {
   "cell_type": "code",
   "execution_count": 16,
   "metadata": {
    "collapsed": false
   },
   "outputs": [
    {
     "data": {
      "text/html": [
       "<div>\n",
       "<table border=\"1\" class=\"dataframe\">\n",
       "  <thead>\n",
       "    <tr style=\"text-align: right;\">\n",
       "      <th></th>\n",
       "      <th>saf_tot_11</th>\n",
       "      <th>lat</th>\n",
       "      <th>lon</th>\n",
       "    </tr>\n",
       "    <tr>\n",
       "      <th>school_dist</th>\n",
       "      <th></th>\n",
       "      <th></th>\n",
       "      <th></th>\n",
       "    </tr>\n",
       "  </thead>\n",
       "  <tbody>\n",
       "    <tr>\n",
       "      <th>01</th>\n",
       "      <td>7.433333</td>\n",
       "      <td>40.719022</td>\n",
       "      <td>-73.982377</td>\n",
       "    </tr>\n",
       "    <tr>\n",
       "      <th>02</th>\n",
       "      <td>7.520833</td>\n",
       "      <td>40.739699</td>\n",
       "      <td>-73.991386</td>\n",
       "    </tr>\n",
       "    <tr>\n",
       "      <th>03</th>\n",
       "      <td>7.233333</td>\n",
       "      <td>40.781574</td>\n",
       "      <td>-73.977370</td>\n",
       "    </tr>\n",
       "    <tr>\n",
       "      <th>04</th>\n",
       "      <td>7.714286</td>\n",
       "      <td>40.793449</td>\n",
       "      <td>-73.943215</td>\n",
       "    </tr>\n",
       "    <tr>\n",
       "      <th>05</th>\n",
       "      <td>7.085714</td>\n",
       "      <td>40.817077</td>\n",
       "      <td>-73.949251</td>\n",
       "    </tr>\n",
       "    <tr>\n",
       "      <th>06</th>\n",
       "      <td>7.660000</td>\n",
       "      <td>40.848970</td>\n",
       "      <td>-73.932502</td>\n",
       "    </tr>\n",
       "    <tr>\n",
       "      <th>07</th>\n",
       "      <td>7.392308</td>\n",
       "      <td>40.816815</td>\n",
       "      <td>-73.919971</td>\n",
       "    </tr>\n",
       "    <tr>\n",
       "      <th>08</th>\n",
       "      <td>7.218182</td>\n",
       "      <td>40.823803</td>\n",
       "      <td>-73.866087</td>\n",
       "    </tr>\n",
       "    <tr>\n",
       "      <th>09</th>\n",
       "      <td>7.365000</td>\n",
       "      <td>40.836349</td>\n",
       "      <td>-73.906240</td>\n",
       "    </tr>\n",
       "    <tr>\n",
       "      <th>10</th>\n",
       "      <td>7.268182</td>\n",
       "      <td>40.870345</td>\n",
       "      <td>-73.898360</td>\n",
       "    </tr>\n",
       "    <tr>\n",
       "      <th>11</th>\n",
       "      <td>7.086667</td>\n",
       "      <td>40.873138</td>\n",
       "      <td>-73.856120</td>\n",
       "    </tr>\n",
       "    <tr>\n",
       "      <th>12</th>\n",
       "      <td>7.666667</td>\n",
       "      <td>40.831412</td>\n",
       "      <td>-73.886946</td>\n",
       "    </tr>\n",
       "    <tr>\n",
       "      <th>13</th>\n",
       "      <td>7.269231</td>\n",
       "      <td>40.692865</td>\n",
       "      <td>-73.977016</td>\n",
       "    </tr>\n",
       "    <tr>\n",
       "      <th>14</th>\n",
       "      <td>7.435714</td>\n",
       "      <td>40.711599</td>\n",
       "      <td>-73.948360</td>\n",
       "    </tr>\n",
       "    <tr>\n",
       "      <th>15</th>\n",
       "      <td>6.933333</td>\n",
       "      <td>40.675972</td>\n",
       "      <td>-73.989255</td>\n",
       "    </tr>\n",
       "    <tr>\n",
       "      <th>16</th>\n",
       "      <td>6.325000</td>\n",
       "      <td>40.688008</td>\n",
       "      <td>-73.929686</td>\n",
       "    </tr>\n",
       "    <tr>\n",
       "      <th>17</th>\n",
       "      <td>6.935714</td>\n",
       "      <td>40.660313</td>\n",
       "      <td>-73.955636</td>\n",
       "    </tr>\n",
       "    <tr>\n",
       "      <th>18</th>\n",
       "      <td>7.109091</td>\n",
       "      <td>40.641863</td>\n",
       "      <td>-73.914726</td>\n",
       "    </tr>\n",
       "    <tr>\n",
       "      <th>19</th>\n",
       "      <td>6.758333</td>\n",
       "      <td>40.676547</td>\n",
       "      <td>-73.882158</td>\n",
       "    </tr>\n",
       "    <tr>\n",
       "      <th>20</th>\n",
       "      <td>7.620000</td>\n",
       "      <td>40.626751</td>\n",
       "      <td>-74.006191</td>\n",
       "    </tr>\n",
       "    <tr>\n",
       "      <th>21</th>\n",
       "      <td>7.090909</td>\n",
       "      <td>40.593596</td>\n",
       "      <td>-73.978465</td>\n",
       "    </tr>\n",
       "    <tr>\n",
       "      <th>22</th>\n",
       "      <td>7.850000</td>\n",
       "      <td>40.618285</td>\n",
       "      <td>-73.952288</td>\n",
       "    </tr>\n",
       "    <tr>\n",
       "      <th>23</th>\n",
       "      <td>7.066667</td>\n",
       "      <td>40.668586</td>\n",
       "      <td>-73.912298</td>\n",
       "    </tr>\n",
       "    <tr>\n",
       "      <th>24</th>\n",
       "      <td>7.753846</td>\n",
       "      <td>40.740621</td>\n",
       "      <td>-73.911518</td>\n",
       "    </tr>\n",
       "    <tr>\n",
       "      <th>25</th>\n",
       "      <td>7.525000</td>\n",
       "      <td>40.745414</td>\n",
       "      <td>-73.815558</td>\n",
       "    </tr>\n",
       "    <tr>\n",
       "      <th>26</th>\n",
       "      <td>7.140000</td>\n",
       "      <td>40.748507</td>\n",
       "      <td>-73.759176</td>\n",
       "    </tr>\n",
       "    <tr>\n",
       "      <th>27</th>\n",
       "      <td>7.010000</td>\n",
       "      <td>40.638828</td>\n",
       "      <td>-73.807823</td>\n",
       "    </tr>\n",
       "    <tr>\n",
       "      <th>28</th>\n",
       "      <td>7.463636</td>\n",
       "      <td>40.709344</td>\n",
       "      <td>-73.806367</td>\n",
       "    </tr>\n",
       "    <tr>\n",
       "      <th>29</th>\n",
       "      <td>6.962500</td>\n",
       "      <td>40.685276</td>\n",
       "      <td>-73.752740</td>\n",
       "    </tr>\n",
       "    <tr>\n",
       "      <th>30</th>\n",
       "      <td>7.577778</td>\n",
       "      <td>40.755398</td>\n",
       "      <td>-73.932306</td>\n",
       "    </tr>\n",
       "    <tr>\n",
       "      <th>31</th>\n",
       "      <td>7.200000</td>\n",
       "      <td>40.595680</td>\n",
       "      <td>-74.125726</td>\n",
       "    </tr>\n",
       "    <tr>\n",
       "      <th>32</th>\n",
       "      <td>7.383333</td>\n",
       "      <td>40.696295</td>\n",
       "      <td>-73.917124</td>\n",
       "    </tr>\n",
       "  </tbody>\n",
       "</table>\n",
       "</div>"
      ],
      "text/plain": [
       "             saf_tot_11        lat        lon\n",
       "school_dist                                  \n",
       "01             7.433333  40.719022 -73.982377\n",
       "02             7.520833  40.739699 -73.991386\n",
       "03             7.233333  40.781574 -73.977370\n",
       "04             7.714286  40.793449 -73.943215\n",
       "05             7.085714  40.817077 -73.949251\n",
       "06             7.660000  40.848970 -73.932502\n",
       "07             7.392308  40.816815 -73.919971\n",
       "08             7.218182  40.823803 -73.866087\n",
       "09             7.365000  40.836349 -73.906240\n",
       "10             7.268182  40.870345 -73.898360\n",
       "11             7.086667  40.873138 -73.856120\n",
       "12             7.666667  40.831412 -73.886946\n",
       "13             7.269231  40.692865 -73.977016\n",
       "14             7.435714  40.711599 -73.948360\n",
       "15             6.933333  40.675972 -73.989255\n",
       "16             6.325000  40.688008 -73.929686\n",
       "17             6.935714  40.660313 -73.955636\n",
       "18             7.109091  40.641863 -73.914726\n",
       "19             6.758333  40.676547 -73.882158\n",
       "20             7.620000  40.626751 -74.006191\n",
       "21             7.090909  40.593596 -73.978465\n",
       "22             7.850000  40.618285 -73.952288\n",
       "23             7.066667  40.668586 -73.912298\n",
       "24             7.753846  40.740621 -73.911518\n",
       "25             7.525000  40.745414 -73.815558\n",
       "26             7.140000  40.748507 -73.759176\n",
       "27             7.010000  40.638828 -73.807823\n",
       "28             7.463636  40.709344 -73.806367\n",
       "29             6.962500  40.685276 -73.752740\n",
       "30             7.577778  40.755398 -73.932306\n",
       "31             7.200000  40.595680 -74.125726\n",
       "32             7.383333  40.696295 -73.917124"
      ]
     },
     "execution_count": 16,
     "metadata": {},
     "output_type": "execute_result"
    }
   ],
   "source": [
    "# computing average safety scores for each district\n",
    "\n",
    "safety = combined.groupby(\"school_dist\").agg(np.mean)[[\"saf_tot_11\",\"lat\",\"lon\"]]\n",
    "safety"
   ]
  },
  {
   "cell_type": "code",
   "execution_count": 17,
   "metadata": {
    "collapsed": false
   },
   "outputs": [],
   "source": [
    "from mpl_toolkits.basemap import Basemap"
   ]
  },
  {
   "cell_type": "code",
   "execution_count": 18,
   "metadata": {
    "collapsed": false
   },
   "outputs": [
    {
     "data": {
      "image/png": "[encoded data removed]",
      "text/plain": [
       "<matplotlib.figure.Figure at 0x21a157e9940>"
      ]
     },
     "metadata": {},
     "output_type": "display_data"
    }
   ],
   "source": [
    "m = Basemap(\n",
    "    projection='merc', \n",
    "    llcrnrlat=40.496044, \n",
    "    urcrnrlat=40.915256, \n",
    "    llcrnrlon=-74.255735, \n",
    "    urcrnrlon=-73.700272,\n",
    "    resolution='i'\n",
    ")\n",
    "\n",
    "m.drawmapboundary(fill_color='#85A6D9')\n",
    "m.drawcoastlines(color='#6D5F47', linewidth=.4)\n",
    "m.drawrivers(color='#00FFFF', linewidth=.4)\n",
    "\n",
    "longitudes = safety[\"lon\"].tolist()\n",
    "latitudes = safety[\"lat\"].tolist()\n",
    "m.scatter(longitudes, latitudes, s=100, zorder=2, latlon=True,c=safety[\"saf_tot_11\"],cmap=\"summer\")\n",
    "\n",
    "m.colorbar()\n",
    "plt.show()"
   ]
  },
  {
   "cell_type": "markdown",
   "metadata": {
    "collapsed": false
   },
   "source": [
    "![title](Images/boroughs.jpg)\n",
    "\n",
    "When we compare the safety map with the above map of newyork boroughs, we can see that -\n",
    "\n",
    "    1) Districts in manhattan seem to have a better safety score owing to a lighter dot on the map\n",
    "    2) Districts in Brooklyn and Queens to have a few darker dots implying lower safety scores in the schools in that district"
   ]
  },
  {
   "cell_type": "code",
   "execution_count": null,
   "metadata": {
    "collapsed": true
   },
   "outputs": [],
   "source": []
  }
 ],
 "metadata": {
  "kernelspec": {
   "display_name": "Python [Root]",
   "language": "python",
   "name": "Python [Root]"
  },
  "language_info": {
   "codemirror_mode": {
    "name": "ipython",
    "version": 3
   },
   "file_extension": ".py",
   "mimetype": "text/x-python",
   "name": "python",
   "nbconvert_exporter": "python",
   "pygments_lexer": "ipython3",
   "version": "3.5.2"
  }
 },
 "nbformat": 4,
 "nbformat_minor": 0
}
